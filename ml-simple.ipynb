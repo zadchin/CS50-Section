{
 "cells": [
  {
   "cell_type": "markdown",
   "metadata": {},
   "source": [
    "#### Overview\n",
    "\n",
    "In this Jupyter notebook, we are going to go through a very simple example on using Linear Regression Model in predicting Apple Stock Price to give a peek into the world of big data and machine learning. \n",
    "\n",
    "This is a very simple example on a relatively clean dataset and by no mean it can reflect the volatility of the stock price, or the current stock market for trading purposes! Nonetheless, I hope you gain some insights learning about machine learning with this example! :)\n",
    "\n",
    "Happy learning!\n",
    "\n",
    "Zad"
   ]
  },
  {
   "cell_type": "code",
   "execution_count": 1,
   "metadata": {},
   "outputs": [],
   "source": [
    "## import necessary libraries\n",
    "import pandas as pd\n",
    "import matplotlib.pyplot as plt\n",
    "from pylab import rcParams\n",
    "import numpy as np\n",
    "import seaborn as sns\n",
    "import os\n",
    "\n",
    "from sklearn.ensemble import RandomForestRegressor\n",
    "from sklearn.model_selection import cross_val_score, train_test_split, GridSearchCV\n",
    "from sklearn.feature_selection import RFECV, SelectFromModel, SelectKBest\n",
    "from sklearn.preprocessing import StandardScaler\n",
    "from sklearn import metrics\n",
    "%matplotlib inline"
   ]
  },
  {
   "cell_type": "code",
   "execution_count": 2,
   "metadata": {},
   "outputs": [
    {
     "data": {
      "text/html": [
       "<div>\n",
       "<style scoped>\n",
       "    .dataframe tbody tr th:only-of-type {\n",
       "        vertical-align: middle;\n",
       "    }\n",
       "\n",
       "    .dataframe tbody tr th {\n",
       "        vertical-align: top;\n",
       "    }\n",
       "\n",
       "    .dataframe thead th {\n",
       "        text-align: right;\n",
       "    }\n",
       "</style>\n",
       "<table border=\"1\" class=\"dataframe\">\n",
       "  <thead>\n",
       "    <tr style=\"text-align: right;\">\n",
       "      <th></th>\n",
       "      <th>Open</th>\n",
       "      <th>High</th>\n",
       "      <th>Low</th>\n",
       "      <th>Close</th>\n",
       "      <th>Volume</th>\n",
       "      <th>SD20</th>\n",
       "      <th>Upper_Band</th>\n",
       "      <th>Lower_Band</th>\n",
       "      <th>S_Close(t-1)</th>\n",
       "      <th>S_Close(t-2)</th>\n",
       "      <th>...</th>\n",
       "      <th>QQQ_MA10</th>\n",
       "      <th>QQQ_MA20</th>\n",
       "      <th>QQQ_MA50</th>\n",
       "      <th>SnP_Close</th>\n",
       "      <th>SnP(t-1))</th>\n",
       "      <th>SnP(t-5)</th>\n",
       "      <th>DJIA_Close</th>\n",
       "      <th>DJIA(t-1))</th>\n",
       "      <th>DJIA(t-5)</th>\n",
       "      <th>Close_forcast</th>\n",
       "    </tr>\n",
       "    <tr>\n",
       "      <th>Date</th>\n",
       "      <th></th>\n",
       "      <th></th>\n",
       "      <th></th>\n",
       "      <th></th>\n",
       "      <th></th>\n",
       "      <th></th>\n",
       "      <th></th>\n",
       "      <th></th>\n",
       "      <th></th>\n",
       "      <th></th>\n",
       "      <th></th>\n",
       "      <th></th>\n",
       "      <th></th>\n",
       "      <th></th>\n",
       "      <th></th>\n",
       "      <th></th>\n",
       "      <th></th>\n",
       "      <th></th>\n",
       "      <th></th>\n",
       "      <th></th>\n",
       "      <th></th>\n",
       "    </tr>\n",
       "  </thead>\n",
       "  <tbody>\n",
       "    <tr>\n",
       "      <th>2005-10-17</th>\n",
       "      <td>6.66</td>\n",
       "      <td>6.69</td>\n",
       "      <td>6.50</td>\n",
       "      <td>6.60</td>\n",
       "      <td>154208600</td>\n",
       "      <td>0.169237</td>\n",
       "      <td>6.827473</td>\n",
       "      <td>6.150527</td>\n",
       "      <td>6.67</td>\n",
       "      <td>6.63</td>\n",
       "      <td>...</td>\n",
       "      <td>33.692</td>\n",
       "      <td>33.9970</td>\n",
       "      <td>34.2690</td>\n",
       "      <td>1190.10</td>\n",
       "      <td>1186.57</td>\n",
       "      <td>1187.33</td>\n",
       "      <td>10348.10</td>\n",
       "      <td>10287.34</td>\n",
       "      <td>10238.76</td>\n",
       "      <td>6.45</td>\n",
       "    </tr>\n",
       "    <tr>\n",
       "      <th>2005-10-18</th>\n",
       "      <td>6.57</td>\n",
       "      <td>6.66</td>\n",
       "      <td>6.44</td>\n",
       "      <td>6.45</td>\n",
       "      <td>152397000</td>\n",
       "      <td>0.168339</td>\n",
       "      <td>6.819677</td>\n",
       "      <td>6.146323</td>\n",
       "      <td>6.60</td>\n",
       "      <td>6.67</td>\n",
       "      <td>...</td>\n",
       "      <td>33.570</td>\n",
       "      <td>33.9525</td>\n",
       "      <td>34.2466</td>\n",
       "      <td>1178.14</td>\n",
       "      <td>1190.10</td>\n",
       "      <td>1184.87</td>\n",
       "      <td>10285.26</td>\n",
       "      <td>10348.10</td>\n",
       "      <td>10253.17</td>\n",
       "      <td>6.78</td>\n",
       "    </tr>\n",
       "    <tr>\n",
       "      <th>2005-10-19</th>\n",
       "      <td>6.43</td>\n",
       "      <td>6.78</td>\n",
       "      <td>6.32</td>\n",
       "      <td>6.78</td>\n",
       "      <td>252170800</td>\n",
       "      <td>0.180306</td>\n",
       "      <td>6.861112</td>\n",
       "      <td>6.139888</td>\n",
       "      <td>6.45</td>\n",
       "      <td>6.60</td>\n",
       "      <td>...</td>\n",
       "      <td>33.562</td>\n",
       "      <td>33.9600</td>\n",
       "      <td>34.2330</td>\n",
       "      <td>1195.76</td>\n",
       "      <td>1178.14</td>\n",
       "      <td>1177.68</td>\n",
       "      <td>10414.13</td>\n",
       "      <td>10285.26</td>\n",
       "      <td>10216.91</td>\n",
       "      <td>6.93</td>\n",
       "    </tr>\n",
       "    <tr>\n",
       "      <th>2005-10-20</th>\n",
       "      <td>6.72</td>\n",
       "      <td>6.97</td>\n",
       "      <td>6.71</td>\n",
       "      <td>6.93</td>\n",
       "      <td>339440500</td>\n",
       "      <td>0.202674</td>\n",
       "      <td>6.931847</td>\n",
       "      <td>6.121153</td>\n",
       "      <td>6.78</td>\n",
       "      <td>6.45</td>\n",
       "      <td>...</td>\n",
       "      <td>33.567</td>\n",
       "      <td>33.9455</td>\n",
       "      <td>34.2190</td>\n",
       "      <td>1177.80</td>\n",
       "      <td>1195.76</td>\n",
       "      <td>1176.84</td>\n",
       "      <td>10281.10</td>\n",
       "      <td>10414.13</td>\n",
       "      <td>10216.59</td>\n",
       "      <td>6.87</td>\n",
       "    </tr>\n",
       "    <tr>\n",
       "      <th>2005-10-21</th>\n",
       "      <td>7.02</td>\n",
       "      <td>7.03</td>\n",
       "      <td>6.83</td>\n",
       "      <td>6.87</td>\n",
       "      <td>199181500</td>\n",
       "      <td>0.216680</td>\n",
       "      <td>6.974860</td>\n",
       "      <td>6.108140</td>\n",
       "      <td>6.93</td>\n",
       "      <td>6.78</td>\n",
       "      <td>...</td>\n",
       "      <td>33.586</td>\n",
       "      <td>33.9365</td>\n",
       "      <td>34.2034</td>\n",
       "      <td>1179.59</td>\n",
       "      <td>1177.80</td>\n",
       "      <td>1186.57</td>\n",
       "      <td>10215.22</td>\n",
       "      <td>10281.10</td>\n",
       "      <td>10287.34</td>\n",
       "      <td>7.01</td>\n",
       "    </tr>\n",
       "  </tbody>\n",
       "</table>\n",
       "<p>5 rows × 63 columns</p>\n",
       "</div>"
      ],
      "text/plain": [
       "            Open  High   Low  Close     Volume      SD20  Upper_Band  \\\n",
       "Date                                                                   \n",
       "2005-10-17  6.66  6.69  6.50   6.60  154208600  0.169237    6.827473   \n",
       "2005-10-18  6.57  6.66  6.44   6.45  152397000  0.168339    6.819677   \n",
       "2005-10-19  6.43  6.78  6.32   6.78  252170800  0.180306    6.861112   \n",
       "2005-10-20  6.72  6.97  6.71   6.93  339440500  0.202674    6.931847   \n",
       "2005-10-21  7.02  7.03  6.83   6.87  199181500  0.216680    6.974860   \n",
       "\n",
       "            Lower_Band  S_Close(t-1)  S_Close(t-2)  ...  QQQ_MA10  QQQ_MA20  \\\n",
       "Date                                                ...                       \n",
       "2005-10-17    6.150527          6.67          6.63  ...    33.692   33.9970   \n",
       "2005-10-18    6.146323          6.60          6.67  ...    33.570   33.9525   \n",
       "2005-10-19    6.139888          6.45          6.60  ...    33.562   33.9600   \n",
       "2005-10-20    6.121153          6.78          6.45  ...    33.567   33.9455   \n",
       "2005-10-21    6.108140          6.93          6.78  ...    33.586   33.9365   \n",
       "\n",
       "            QQQ_MA50  SnP_Close  SnP(t-1))  SnP(t-5)  DJIA_Close  DJIA(t-1))  \\\n",
       "Date                                                                           \n",
       "2005-10-17   34.2690    1190.10    1186.57   1187.33    10348.10    10287.34   \n",
       "2005-10-18   34.2466    1178.14    1190.10   1184.87    10285.26    10348.10   \n",
       "2005-10-19   34.2330    1195.76    1178.14   1177.68    10414.13    10285.26   \n",
       "2005-10-20   34.2190    1177.80    1195.76   1176.84    10281.10    10414.13   \n",
       "2005-10-21   34.2034    1179.59    1177.80   1186.57    10215.22    10281.10   \n",
       "\n",
       "            DJIA(t-5)  Close_forcast  \n",
       "Date                                  \n",
       "2005-10-17   10238.76           6.45  \n",
       "2005-10-18   10253.17           6.78  \n",
       "2005-10-19   10216.91           6.93  \n",
       "2005-10-20   10216.59           6.87  \n",
       "2005-10-21   10287.34           7.01  \n",
       "\n",
       "[5 rows x 63 columns]"
      ]
     },
     "execution_count": 2,
     "metadata": {},
     "output_type": "execute_result"
    }
   ],
   "source": [
    "df_Stock = pd.read_csv('AAPL.csv',  index_col=0)\n",
    "df_Stock = df_Stock.rename(columns={'Close(t)':'Close'})\n",
    "df_Stock.head()"
   ]
  },
  {
   "cell_type": "code",
   "execution_count": 3,
   "metadata": {},
   "outputs": [
    {
     "data": {
      "image/png": "[encoded data removed]",
      "text/plain": [
       "<Figure size 720x504 with 1 Axes>"
      ]
     },
     "metadata": {
      "needs_background": "light"
     },
     "output_type": "display_data"
    }
   ],
   "source": [
    "df_Stock['Close'].plot(figsize=(10, 7))\n",
    "plt.title(\"Stock Price\", fontsize=17)\n",
    "plt.ylabel('Price', fontsize=14)\n",
    "plt.xlabel('Time', fontsize=14)\n",
    "plt.grid(which=\"major\", color='k', linestyle='-.', linewidth=0.5)\n",
    "plt.show()"
   ]
  },
  {
   "cell_type": "code",
   "execution_count": 4,
   "metadata": {},
   "outputs": [],
   "source": [
    "## remove unnecessary columns\n",
    "df_Stock = df_Stock.drop(columns='Date_col')"
   ]
  },
  {
   "cell_type": "code",
   "execution_count": 5,
   "metadata": {},
   "outputs": [],
   "source": [
    "## train-test split\n",
    "def create_train_test_set(df_Stock):\n",
    "    \n",
    "    features = df_Stock.drop(columns=['Close_forcast'], axis=1)\n",
    "    target = df_Stock['Close_forcast']\n",
    "    \n",
    "\n",
    "    data_len = df_Stock.shape[0]\n",
    "    print('Historical Stock Data length is - ', str(data_len))\n",
    "\n",
    "    #create a chronological split for train and testing\n",
    "    train_split = int(data_len * 0.88)\n",
    "    print('Training Set length - ', str(train_split))\n",
    "\n",
    "    val_split = train_split + int(data_len * 0.1)\n",
    "    print('Validation Set length - ', str(int(data_len * 0.1)))\n",
    "\n",
    "    print('Test Set length - ', str(int(data_len * 0.02)))\n",
    "\n",
    "    # Splitting features and target into train, validation and test samples \n",
    "    X_train, X_val, X_test = features[:train_split], features[train_split:val_split], features[val_split:]\n",
    "    Y_train, Y_val, Y_test = target[:train_split], target[train_split:val_split], target[val_split:]\n",
    "\n",
    "    #print shape of samples\n",
    "    print(X_train.shape, X_val.shape, X_test.shape)\n",
    "    print(Y_train.shape, Y_val.shape, Y_test.shape)\n",
    "    \n",
    "    return X_train, X_val, X_test, Y_train, Y_val, Y_test"
   ]
  },
  {
   "cell_type": "code",
   "execution_count": 6,
   "metadata": {},
   "outputs": [
    {
     "name": "stdout",
     "output_type": "stream",
     "text": [
      "Historical Stock Data length is -  3732\n",
      "Training Set length -  3284\n",
      "Validation Set length -  373\n",
      "Test Set length -  74\n",
      "(3284, 61) (373, 61) (75, 61)\n",
      "(3284,) (373,) (75,)\n"
     ]
    }
   ],
   "source": [
    "X_train, X_val, X_test, Y_train, Y_val, Y_test = create_train_test_set(df_Stock)"
   ]
  },
  {
   "cell_type": "code",
   "execution_count": 7,
   "metadata": {},
   "outputs": [
    {
     "data": {
      "text/plain": [
       "LinearRegression()"
      ]
     },
     "execution_count": 7,
     "metadata": {},
     "output_type": "execute_result"
    }
   ],
   "source": [
    "from sklearn.linear_model import LinearRegression\n",
    "\n",
    "lr = LinearRegression()\n",
    "lr.fit(X_train, Y_train)"
   ]
  },
  {
   "cell_type": "code",
   "execution_count": 8,
   "metadata": {},
   "outputs": [],
   "source": [
    "Y_train_pred = lr.predict(X_train)\n",
    "Y_val_pred = lr.predict(X_val)\n",
    "Y_test_pred = lr.predict(X_test)"
   ]
  },
  {
   "cell_type": "code",
   "execution_count": 9,
   "metadata": {},
   "outputs": [
    {
     "data": {
      "text/html": [
       "<div>\n",
       "<style scoped>\n",
       "    .dataframe tbody tr th:only-of-type {\n",
       "        vertical-align: middle;\n",
       "    }\n",
       "\n",
       "    .dataframe tbody tr th {\n",
       "        vertical-align: top;\n",
       "    }\n",
       "\n",
       "    .dataframe thead th {\n",
       "        text-align: right;\n",
       "    }\n",
       "</style>\n",
       "<table border=\"1\" class=\"dataframe\">\n",
       "  <thead>\n",
       "    <tr style=\"text-align: right;\">\n",
       "      <th></th>\n",
       "      <th>Date</th>\n",
       "      <th>Actual</th>\n",
       "      <th>Predicted</th>\n",
       "    </tr>\n",
       "  </thead>\n",
       "  <tbody>\n",
       "    <tr>\n",
       "      <th>0</th>\n",
       "      <td>2018-11-01</td>\n",
       "      <td>202.30</td>\n",
       "      <td>216.289778</td>\n",
       "    </tr>\n",
       "    <tr>\n",
       "      <th>1</th>\n",
       "      <td>2018-11-02</td>\n",
       "      <td>196.56</td>\n",
       "      <td>201.470182</td>\n",
       "    </tr>\n",
       "    <tr>\n",
       "      <th>2</th>\n",
       "      <td>2018-11-05</td>\n",
       "      <td>198.68</td>\n",
       "      <td>195.948933</td>\n",
       "    </tr>\n",
       "    <tr>\n",
       "      <th>3</th>\n",
       "      <td>2018-11-06</td>\n",
       "      <td>204.71</td>\n",
       "      <td>199.043601</td>\n",
       "    </tr>\n",
       "    <tr>\n",
       "      <th>4</th>\n",
       "      <td>2018-11-07</td>\n",
       "      <td>204.00</td>\n",
       "      <td>204.193666</td>\n",
       "    </tr>\n",
       "    <tr>\n",
       "      <th>...</th>\n",
       "      <td>...</td>\n",
       "      <td>...</td>\n",
       "      <td>...</td>\n",
       "    </tr>\n",
       "    <tr>\n",
       "      <th>368</th>\n",
       "      <td>2020-04-22</td>\n",
       "      <td>273.79</td>\n",
       "      <td>275.751755</td>\n",
       "    </tr>\n",
       "    <tr>\n",
       "      <th>369</th>\n",
       "      <td>2020-04-23</td>\n",
       "      <td>281.70</td>\n",
       "      <td>274.020243</td>\n",
       "    </tr>\n",
       "    <tr>\n",
       "      <th>370</th>\n",
       "      <td>2020-04-24</td>\n",
       "      <td>281.90</td>\n",
       "      <td>280.710044</td>\n",
       "    </tr>\n",
       "    <tr>\n",
       "      <th>371</th>\n",
       "      <td>2020-04-27</td>\n",
       "      <td>277.33</td>\n",
       "      <td>280.543603</td>\n",
       "    </tr>\n",
       "    <tr>\n",
       "      <th>372</th>\n",
       "      <td>2020-04-28</td>\n",
       "      <td>286.44</td>\n",
       "      <td>276.562125</td>\n",
       "    </tr>\n",
       "  </tbody>\n",
       "</table>\n",
       "<p>373 rows × 3 columns</p>\n",
       "</div>"
      ],
      "text/plain": [
       "          Date  Actual   Predicted\n",
       "0   2018-11-01  202.30  216.289778\n",
       "1   2018-11-02  196.56  201.470182\n",
       "2   2018-11-05  198.68  195.948933\n",
       "3   2018-11-06  204.71  199.043601\n",
       "4   2018-11-07  204.00  204.193666\n",
       "..         ...     ...         ...\n",
       "368 2020-04-22  273.79  275.751755\n",
       "369 2020-04-23  281.70  274.020243\n",
       "370 2020-04-24  281.90  280.710044\n",
       "371 2020-04-27  277.33  280.543603\n",
       "372 2020-04-28  286.44  276.562125\n",
       "\n",
       "[373 rows x 3 columns]"
      ]
     },
     "execution_count": 9,
     "metadata": {},
     "output_type": "execute_result"
    }
   ],
   "source": [
    "df_pred = pd.DataFrame(Y_val.values, columns=['Actual'], index=Y_val.index)\n",
    "df_pred['Predicted'] = Y_val_pred\n",
    "df_pred = df_pred.reset_index()\n",
    "df_pred.loc[:, 'Date'] = pd.to_datetime(df_pred['Date'],format='%Y-%m-%d')\n",
    "df_pred"
   ]
  },
  {
   "cell_type": "code",
   "execution_count": 10,
   "metadata": {},
   "outputs": [
    {
     "data": {
      "text/plain": [
       "<AxesSubplot:>"
      ]
     },
     "execution_count": 10,
     "metadata": {},
     "output_type": "execute_result"
    },
    {
     "data": {
      "image/png": "[encoded data removed]",
      "text/plain": [
       "<Figure size 432x288 with 1 Axes>"
      ]
     },
     "metadata": {
      "needs_background": "light"
     },
     "output_type": "display_data"
    }
   ],
   "source": [
    "df_pred[['Actual', 'Predicted']].plot()"
   ]
  }
 ],
 "metadata": {
  "kernelspec": {
   "display_name": "Python 3.8.2 64-bit",
   "language": "python",
   "name": "python3"
  },
  "language_info": {
   "codemirror_mode": {
    "name": "ipython",
    "version": 3
   },
   "file_extension": ".py",
   "mimetype": "text/x-python",
   "name": "python",
   "nbconvert_exporter": "python",
   "pygments_lexer": "ipython3",
   "version": "3.8.2"
  },
  "orig_nbformat": 4,
  "vscode": {
   "interpreter": {
    "hash": "31f2aee4e71d21fbe5cf8b01ff0e069b9275f58929596ceb00d14d90e3e16cd6"
   }
  }
 },
 "nbformat": 4,
 "nbformat_minor": 2
}
